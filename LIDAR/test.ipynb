{
 "cells": [
  {
   "cell_type": "code",
   "execution_count": 92,
   "metadata": {},
   "outputs": [],
   "source": [
    "message = \"170 0 9 1 97 174 0 1 0 1 196 170 0 9 1 97 174 0 1 1 1 197 170 0 9 1 97 174 0 1 1 1 197 170 0 9 1 97 174 0 1 0 1 196 170 0 9 1 97 174 0 1 0 1 196 170 0 9 1 97 174 0 1 0 1 196\""
   ]
  },
  {
   "cell_type": "code",
   "execution_count": 93,
   "metadata": {},
   "outputs": [
    {
     "name": "stdout",
     "output_type": "stream",
     "text": [
      "170 0 9 1 97 174 0 1 0 1 196 .\n",
      "170 0 9 1 97 174 0 1 1 1 197 170 0 9 1 97 174 0 1 1 1 197 170 0 9 1 97 174 0 1 0 1 196 170 0 9 1 97 174 0 1 0 1 196 170 0 9 1 97 174 0 1 0 1 196\n",
      "0xaa 0x0 0x9 0x1 0x61 0xae 0x0 0x1 0x0 0x1 0xc4 \n",
      "170 0 9 1 97 174 0 1 1 1 197 .\n",
      "170 0 9 1 97 174 0 1 1 1 197 170 0 9 1 97 174 0 1 0 1 196 170 0 9 1 97 174 0 1 0 1 196 170 0 9 1 97 174 0 1 0 1 196\n",
      "0xaa 0x0 0x9 0x1 0x61 0xae 0x0 0x1 0x1 0x1 0xc5 \n",
      "170 0 9 1 97 174 0 1 1 1 197 .\n",
      "170 0 9 1 97 174 0 1 0 1 196 170 0 9 1 97 174 0 1 0 1 196 170 0 9 1 97 174 0 1 0 1 196\n",
      "0xaa 0x0 0x9 0x1 0x61 0xae 0x0 0x1 0x1 0x1 0xc5 \n",
      "170 0 9 1 97 174 0 1 0 1 196 .\n",
      "170 0 9 1 97 174 0 1 0 1 196 170 0 9 1 97 174 0 1 0 1 196\n",
      "0xaa 0x0 0x9 0x1 0x61 0xae 0x0 0x1 0x0 0x1 0xc4 \n",
      "170 0 9 1 97 174 0 1 0 1 196 .\n",
      "170 0 9 1 97 174 0 1 0 1 196\n",
      "0xaa 0x0 0x9 0x1 0x61 0xae 0x0 0x1 0x0 0x1 0xc4 \n"
     ]
    }
   ],
   "source": [
    "while message.count(\"170 0\") > 1:\n",
    "    if message.find(\"170 0\") > 0: message = message[message.find(\"170 0\"):]\n",
    "\n",
    "    if message.count(\"170 0\") > 1:\n",
    "        n = message[5:].find(\"170 0\")\n",
    "        data = message[:n+5]\n",
    "        print(data + \".\")\n",
    "        message = message[n+5:]\n",
    "        print(message)\n",
    "        for n in data.split():\n",
    "            print(hex(int(n)), end=\" \")\n",
    "        print()"
   ]
  },
  {
   "cell_type": "code",
   "execution_count": 100,
   "metadata": {},
   "outputs": [
    {
     "data": {
      "text/plain": [
       "255"
      ]
     },
     "execution_count": 100,
     "metadata": {},
     "output_type": "execute_result"
    }
   ],
   "source": [
    "int(b\"0xff\", 16)"
   ]
  },
  {
   "cell_type": "code",
   "execution_count": 101,
   "metadata": {},
   "outputs": [
    {
     "data": {
      "text/plain": [
       "255"
      ]
     },
     "execution_count": 101,
     "metadata": {},
     "output_type": "execute_result"
    }
   ],
   "source": [
    "0xff"
   ]
  },
  {
   "cell_type": "code",
   "execution_count": null,
   "metadata": {},
   "outputs": [],
   "source": []
  }
 ],
 "metadata": {
  "kernelspec": {
   "display_name": "Python 3",
   "language": "python",
   "name": "python3"
  },
  "language_info": {
   "codemirror_mode": {
    "name": "ipython",
    "version": 3
   },
   "file_extension": ".py",
   "mimetype": "text/x-python",
   "name": "python",
   "nbconvert_exporter": "python",
   "pygments_lexer": "ipython3",
   "version": "3.12.3"
  }
 },
 "nbformat": 4,
 "nbformat_minor": 2
}
